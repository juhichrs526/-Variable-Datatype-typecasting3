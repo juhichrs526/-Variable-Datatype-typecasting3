{
 "cells": [
  {
   "cell_type": "code",
   "execution_count": 1,
   "id": "73da72a1",
   "metadata": {},
   "outputs": [
    {
     "name": "stdout",
     "output_type": "stream",
     "text": [
      "hello friends\n"
     ]
    }
   ],
   "source": [
    "#variable\n",
    "Var1 = \"hello friends\"\n",
    "print(Var1)"
   ]
  },
  {
   "cell_type": "code",
   "execution_count": 2,
   "id": "c2ee24eb",
   "metadata": {},
   "outputs": [
    {
     "name": "stdout",
     "output_type": "stream",
     "text": [
      "<class 'str'>\n"
     ]
    }
   ],
   "source": [
    "#Datatype\n",
    "Var1=\"hello friends\"\n",
    "print(type(Var1))"
   ]
  },
  {
   "cell_type": "code",
   "execution_count": 3,
   "id": "16ee39d3",
   "metadata": {},
   "outputs": [
    {
     "name": "stdout",
     "output_type": "stream",
     "text": [
      "<class 'int'>\n"
     ]
    }
   ],
   "source": [
    "Var2=52\n",
    "print(type(Var2))"
   ]
  },
  {
   "cell_type": "code",
   "execution_count": 4,
   "id": "94d2289c",
   "metadata": {},
   "outputs": [
    {
     "name": "stdout",
     "output_type": "stream",
     "text": [
      "<class 'float'>\n"
     ]
    }
   ],
   "source": [
    "Var3=52.22\n",
    "print(type(Var3))"
   ]
  },
  {
   "cell_type": "code",
   "execution_count": 5,
   "id": "f0c832db",
   "metadata": {},
   "outputs": [
    {
     "name": "stdout",
     "output_type": "stream",
     "text": [
      "104.22\n"
     ]
    }
   ],
   "source": [
    "print(Var2+Var3)"
   ]
  },
  {
   "cell_type": "code",
   "execution_count": 6,
   "id": "7243deb3",
   "metadata": {},
   "outputs": [
    {
     "name": "stdout",
     "output_type": "stream",
     "text": [
      "<class 'str'>\n"
     ]
    }
   ],
   "source": [
    "Var4=\"Good morning\"\n",
    "print(type(Var1))"
   ]
  },
  {
   "cell_type": "code",
   "execution_count": 7,
   "id": "eda2cebe",
   "metadata": {},
   "outputs": [
    {
     "name": "stdout",
     "output_type": "stream",
     "text": [
      "hello friendsGood morning\n"
     ]
    }
   ],
   "source": [
    "print(Var1 + Var4)"
   ]
  },
  {
   "cell_type": "code",
   "execution_count": 8,
   "id": "b305e5fd",
   "metadata": {},
   "outputs": [],
   "source": [
    "Var1 =\"10\""
   ]
  },
  {
   "cell_type": "code",
   "execution_count": 9,
   "id": "4aeb7093",
   "metadata": {},
   "outputs": [
    {
     "name": "stdout",
     "output_type": "stream",
     "text": [
      "10Good morning\n"
     ]
    }
   ],
   "source": [
    "print(Var1 + Var4)"
   ]
  },
  {
   "cell_type": "code",
   "execution_count": 10,
   "id": "35bd883a",
   "metadata": {},
   "outputs": [],
   "source": [
    "Var2 =\"32\""
   ]
  },
  {
   "cell_type": "code",
   "execution_count": 11,
   "id": "70a63612",
   "metadata": {},
   "outputs": [
    {
     "name": "stdout",
     "output_type": "stream",
     "text": [
      "1032\n"
     ]
    }
   ],
   "source": [
    "print(Var1 + Var2)"
   ]
  },
  {
   "cell_type": "code",
   "execution_count": 12,
   "id": "9ec91636",
   "metadata": {},
   "outputs": [
    {
     "name": "stdout",
     "output_type": "stream",
     "text": [
      "42\n"
     ]
    }
   ],
   "source": [
    "#typecasting\n",
    "print(int(Var1) + int(Var2))"
   ]
  },
  {
   "cell_type": "code",
   "execution_count": 13,
   "id": "5e7f3292",
   "metadata": {},
   "outputs": [
    {
     "name": "stdout",
     "output_type": "stream",
     "text": [
      "Hello friendsHello friendsHello friendsHello friendsHello friendsHello friendsHello friendsHello friendsHello friendsHello friends\n"
     ]
    }
   ],
   "source": [
    "\"\"\"\n",
    "str()\n",
    "int()\n",
    "float()\n",
    "\"\"\"\n",
    "print(10 * \"Hello friends\")\n"
   ]
  },
  {
   "cell_type": "code",
   "execution_count": 14,
   "id": "5d5220f6",
   "metadata": {},
   "outputs": [
    {
     "name": "stdout",
     "output_type": "stream",
     "text": [
      "Hello friends\n",
      "Hello friends\n",
      "Hello friends\n",
      "Hello friends\n",
      "Hello friends\n",
      "Hello friends\n",
      "Hello friends\n",
      "Hello friends\n",
      "Hello friends\n",
      "Hello friends\n",
      "\n"
     ]
    }
   ],
   "source": [
    "print(10 * \"Hello friends\\n\")"
   ]
  },
  {
   "cell_type": "code",
   "execution_count": 15,
   "id": "26b973b6",
   "metadata": {},
   "outputs": [
    {
     "name": "stdout",
     "output_type": "stream",
     "text": [
      "42424242424242424242\n"
     ]
    }
   ],
   "source": [
    "print(10 * str(int(Var1) + int(Var2)))"
   ]
  },
  {
   "cell_type": "code",
   "execution_count": 16,
   "id": "7596e440",
   "metadata": {},
   "outputs": [
    {
     "name": "stdout",
     "output_type": "stream",
     "text": [
      "enter your number\n",
      "22\n"
     ]
    }
   ],
   "source": [
    "print(\"enter your number\")\n",
    "abc = input()"
   ]
  },
  {
   "cell_type": "code",
   "execution_count": 18,
   "id": "28b3ab75",
   "metadata": {},
   "outputs": [
    {
     "name": "stdout",
     "output_type": "stream",
     "text": [
      "enter a first number\n",
      "10\n",
      "enter a second number\n",
      "20\n",
      "sum of thes number 30\n"
     ]
    }
   ],
   "source": [
    "#wap to add two number?\n",
    "\n",
    "print(\"enter a first number\")\n",
    "a1 = input()\n",
    "print(\"enter a second number\")\n",
    "b1 =input()\n",
    "print(\"sum of thes number\",int(a1)+int(b1))"
   ]
  },
  {
   "cell_type": "code",
   "execution_count": null,
   "id": "2a1d330e",
   "metadata": {},
   "outputs": [],
   "source": []
  }
 ],
 "metadata": {
  "kernelspec": {
   "display_name": "Python 3",
   "language": "python",
   "name": "python3"
  },
  "language_info": {
   "codemirror_mode": {
    "name": "ipython",
    "version": 3
   },
   "file_extension": ".py",
   "mimetype": "text/x-python",
   "name": "python",
   "nbconvert_exporter": "python",
   "pygments_lexer": "ipython3",
   "version": "3.8.8"
  }
 },
 "nbformat": 4,
 "nbformat_minor": 5
}
